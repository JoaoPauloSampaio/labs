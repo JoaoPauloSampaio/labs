{
  "nbformat": 4,
  "nbformat_minor": 0,
  "metadata": {
    "colab": {
      "name": "warm-up-01-diamantes-JoaoPaulo.ipynb",
      "provenance": [],
      "authorship_tag": "ABX9TyO1U0Iyt7aDsvwesPT/f9lY",
      "include_colab_link": true
    },
    "kernelspec": {
      "name": "python3",
      "display_name": "Python 3"
    }
  },
  "cells": [
    {
      "cell_type": "markdown",
      "metadata": {
        "id": "view-in-github",
        "colab_type": "text"
      },
      "source": [
        "<a href=\"https://colab.research.google.com/github/JoaoPauloSampaio/labs/blob/master/warm_up_01_diamantes_JoaoPaulo.ipynb\" target=\"_parent\"><img src=\"https://colab.research.google.com/assets/colab-badge.svg\" alt=\"Open In Colab\"/></a>"
      ]
    },
    {
      "cell_type": "code",
      "metadata": {
        "id": "1pzahq3TGpWX",
        "colab_type": "code",
        "colab": {}
      },
      "source": [
        "lists = list(mapa)\n",
        "quant = lists[0]\n",
        "mapa = map(str,input().split())\n",
        "for i in range(int(quant)):\n",
        "    line = lists[i+1]\n",
        "    total = 0\n",
        "    min = 0\n",
        "    for k in range(len(line)):\n",
        "        if(line[j] == \"<\"):\n",
        "            min += 1\n",
        "        if(line[j] == \">\" and min > 0):\n",
        "            total += 1\n",
        "            min -= 1\n",
        "\n",
        "    print(total)"
      ],
      "execution_count": 0,
      "outputs": []
    }
  ]
}