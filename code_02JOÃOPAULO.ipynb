{
  "nbformat": 4,
  "nbformat_minor": 0,
  "metadata": {
    "colab": {
      "name": " code#02JOÃOPAULO.ipynb",
      "provenance": [],
      "include_colab_link": true
    },
    "kernelspec": {
      "name": "python3",
      "display_name": "Python 3"
    }
  },
  "cells": [
    {
      "cell_type": "markdown",
      "metadata": {
        "id": "view-in-github",
        "colab_type": "text"
      },
      "source": [
        "<a href=\"https://colab.research.google.com/github/JoaoPauloSampaio/labs/blob/master/code_02JO%C3%83OPAULO.ipynb\" target=\"_parent\"><img src=\"https://colab.research.google.com/assets/colab-badge.svg\" alt=\"Open In Colab\"/></a>"
      ]
    },
    {
      "cell_type": "markdown",
      "metadata": {
        "id": "3dkvnZYDyc3U",
        "colab_type": "text"
      },
      "source": [
        "# Introdução\n",
        "\n",
        "Como vimos na aula passada, uma imagem pode ser preto e branca, tons de cinza ou colorida. Ainda, conseguimos extrair informações das imagens através dos histogramas.\n",
        "\n",
        "Para esta atividade, utilizaremos três imagens coloridas, retiradas do unsplash:\n",
        "\n",
        "* johannes-plenio-RwHv7LgeC7s-unsplash.jpg\n",
        "* claudio-testa--SO3JtE3gZo-unsplash.jpg\n",
        "* bailey-zindel-NRQV-hBF10M-unsplash.jpg\n",
        "\n",
        "As imagens se encontram na pasta compartilhada com vocês, na disciplina.\n",
        "\n",
        "No espaço de código abaixo, escreva os `imports` necessários para começarmos a atividade.\n"
      ]
    },
    {
      "cell_type": "code",
      "metadata": {
        "id": "SDGx0VBRxJmJ",
        "colab_type": "code",
        "colab": {}
      },
      "source": [
        "import numpy as np\n",
        "import pandas as pd\n",
        "import matplotlib.pyplot as plt\n",
        "from PIL import Image"
      ],
      "execution_count": 0,
      "outputs": []
    },
    {
      "cell_type": "markdown",
      "metadata": {
        "id": "jzucmfcDzV3D",
        "colab_type": "text"
      },
      "source": [
        "# 1a parte\n",
        "\n",
        "No espaço de código abaixo, plote as 3 imagens, uma ao lado da outra. Ainda, plote o histograma de cada canal de cor (R - Vermelho, G - Verde e B - Azul) abaixo da respectiva imagem."
      ]
    },
    {
      "cell_type": "code",
      "metadata": {
        "id": "VFmknYntz1S8",
        "colab_type": "code",
        "colab": {}
      },
      "source": [
        "from google.colab import drive\n",
        "drive.mount('/content/drive')\n",
        "imagem1 = Image.open ('/content/drive/My Drive/Colab Notebooks/bailey-zindel-NRQV-hBF10M-unsplash.jpg') \n",
        "imagem2 = Image.open ('/content/drive/My Drive/Colab Notebooks/claudio-testa--SO3JtE3gZo-unsplash.jpg') \n",
        "imagem3 = Image.open ('/content/drive/My Drive/Colab Notebooks/johannes-plenio-RwHv7LgeC7s-unsplash.jpg') \n",
        "plt.figure(figsize=(20,12))\n",
        "\n",
        "plt.subplot(131)\n",
        "plt.title('imagem 1')\n",
        "plt.imshow(imagem1)\n",
        "\n",
        "plt.subplot(132)\n",
        "plt.title('imagem 2')\n",
        "plt.imshow(imagem2)\n",
        "\n",
        "plt.subplot(133)\n",
        "plt.title('imagem 3')\n",
        "plt.imshow(imagem3)\n",
        "\n",
        "imagem1_arr = np.array(imagem1)\n",
        "imagem2_arr = np.array(imagem2)\n",
        "imagem3_arr = np.array(imagem3)\n",
        "\n",
        "plt.figure(figsize=(20,12))\n",
        "red1 = imagem1_arr[:,:,0]\n",
        "red2 = imagem2_arr[:,:,0]\n",
        "red3 = imagem3_arr[:,:,0]\n",
        "\n",
        "plt.subplot(231)\n",
        "plt.hist(red1.ravel(),color='red')\n",
        "plt.subplot(232)\n",
        "plt.hist(red2.ravel(),color='red')\n",
        "plt.subplot(233)\n",
        "plt.hist(red3.ravel(),color='red')\n",
        "\n",
        "plt.figure(figsize=(20,12))\n",
        "green1 = imagem1_arr[:,:,1]\n",
        "green2 = imagem2_arr[:,:,1]\n",
        "green3 = imagem3_arr[:,:,1]\n",
        "\n",
        "plt.subplot(331)\n",
        "plt.hist(green1.ravel(),color='green')\n",
        "plt.subplot(332)\n",
        "plt.hist(green2.ravel(),color='green')\n",
        "plt.subplot(333)\n",
        "plt.hist(green3.ravel(),color='green')\n",
        "\n",
        "plt.figure(figsize=(20,12))\n",
        "blue1 = imagem1_arr[:,:,2]\n",
        "blue2 = imagem2_arr[:,:,2]\n",
        "blue3 = imagem3_arr[:,:,2]\n",
        "\n",
        "plt.subplot(431)\n",
        "plt.hist(blue1.ravel(),color='blue')\n",
        "plt.subplot(432)\n",
        "plt.hist(blue2.ravel(),color='blue')\n",
        "plt.subplot(433)\n",
        "plt.hist(blue3.ravel(),color='blue')"
      ],
      "execution_count": 0,
      "outputs": []
    },
    {
      "cell_type": "markdown",
      "metadata": {
        "id": "xs80ht_Y0Zg4",
        "colab_type": "text"
      },
      "source": [
        "Olhando para os gráficos gerados, discorram comparando os resultados."
      ]
    },
    {
      "cell_type": "markdown",
      "metadata": {
        "id": "gZwKL9qX08UM",
        "colab_type": "text"
      },
      "source": [
        "Alisando primeiramente os graficos red das 3 imagens vemos que a imagem 03 por possuir tons mais avermelhados possui o maior valor das 3 imagens, e tambem podemos ver baseados nos graficos red que a imagens 01 e 02 são praticamente opostas em questões de valores sendo a 01 com altos valores no escuro e claro e a 02 fortes valores no intermedio de tons\n",
        "\n",
        "Analisando o grafico green podemos ver que a imagem 02 possui maiores valores de intermedios  na cor green isso a torna uma imagem mais esverdeada e denovo as outras imagens 01 e 02 são apostas em questão de valores no grafico green\n",
        "\n",
        "Analisando finalmente os graficos blue vemos que 01 é a imagem mais azulada porém os graficos das imagens 02 e 03 não são apostos tão nitidamente quanto nos graficos red e blue\n",
        "\n",
        "\n",
        "\n"
      ]
    },
    {
      "cell_type": "markdown",
      "metadata": {
        "id": "fPuxCutUz8C_",
        "colab_type": "text"
      },
      "source": [
        "# 2a parte\n",
        "\n",
        "Escolha uma das imagens acima, para continuarmos os experimentos. \n",
        "\n",
        "Vamos gerar algumas imagens preto e branco, utilizando limiares diferentes:\n",
        "\n",
        "*  45\n",
        "*  100\n",
        "*  145\n",
        "*  200\n",
        "*  245\n",
        "\n",
        "Escreva o código no espaço abaixo."
      ]
    },
    {
      "cell_type": "code",
      "metadata": {
        "id": "vGmU1s-I1-K1",
        "colab_type": "code",
        "colab": {}
      },
      "source": [
        "imagem3 = np.mean(imagem3_arr, axis=2)\n",
        "plt.figure(figsize=(16,10))\n",
        "\n",
        "plt.subplot(231)\n",
        "plt.title('45')\n",
        "imagem3_45 = imagem3.copy()\n",
        "imagem3_45[imagem3_45 < 45] = 0\n",
        "imagem3_45[imagem3_45 > 45] = 255\n",
        "plt.axis('off')\n",
        "plt.imshow(Image.fromarray(imagem3_45)) \n",
        "\n",
        "plt.subplot(232)\n",
        "plt.title('100')\n",
        "imagem3_100 = imagem3.copy()\n",
        "imagem3_100[imagem3_100 < 100] = 0\n",
        "imagem3_100[imagem3_100 > 100] = 255\n",
        "plt.axis('off')\n",
        "plt.imshow(Image.fromarray(imagem3_100)) \n",
        "\n",
        "plt.subplot(233)\n",
        "plt.title('145')\n",
        "imagem3_145 = imagem3.copy()\n",
        "imagem3_145[imagem3_145 < 145] = 0\n",
        "imagem3_145[imagem3_145 > 145] = 255\n",
        "plt.axis('off')\n",
        "plt.imshow(Image.fromarray(imagem3_145)) \n",
        "\n",
        "plt.subplot(234)\n",
        "plt.title('200')\n",
        "imagem3_200 = imagem3.copy()\n",
        "imagem3_200[imagem3_200 < 200] = 0\n",
        "imagem3_200[imagem3_200 > 200] = 255\n",
        "plt.axis('off')\n",
        "plt.imshow(Image.fromarray(imagem3_200)) \n",
        "\n",
        "plt.subplot(235)\n",
        "plt.title('245')\n",
        "imagem3_245 = imagem3.copy()\n",
        "imagem3_245[imagem3_245 < 245] = 0\n",
        "imagem3_245[imagem3_245 > 245] = 255\n",
        "plt.axis('off')\n",
        "plt.imshow(Image.fromarray(imagem3_245)) \n",
        "\n",
        "\n",
        "\n",
        "plt.show()"
      ],
      "execution_count": 0,
      "outputs": []
    },
    {
      "cell_type": "markdown",
      "metadata": {
        "id": "O4dzMLt-1_bl",
        "colab_type": "text"
      },
      "source": [
        "Plote as imagens geradas. (Escreva o código no espaço abaixo)"
      ]
    },
    {
      "cell_type": "code",
      "metadata": {
        "id": "0OuJtMdT2Fu2",
        "colab_type": "code",
        "colab": {}
      },
      "source": [
        ""
      ],
      "execution_count": 0,
      "outputs": []
    },
    {
      "cell_type": "markdown",
      "metadata": {
        "id": "OH8YDWU42G4m",
        "colab_type": "text"
      },
      "source": [
        "O que você consegue extrair deste experimento? Escreva no espaço abaixo."
      ]
    },
    {
      "cell_type": "markdown",
      "metadata": {
        "id": "e6SEiaTo2PVj",
        "colab_type": "text"
      },
      "source": [
        "Bom claramente quanto maiores os valores limiares mais escuras as imagens ficarão pois se fizermos uns histograma de cada uma veriamos que quanto maior valor da limiar maiores seriam as colunas do valor 0 que justamente representa a cor preta na imagem."
      ]
    }
  ]
}